{
 "cells": [
  {
   "cell_type": "markdown",
   "metadata": {},
   "source": [
    "# Set_4\n",
    "Question_2"
   ]
  },
  {
   "cell_type": "code",
   "execution_count": 7,
   "metadata": {},
   "outputs": [
    {
     "data": {
      "image/png": "[encoded data removed]",
      "text/plain": [
       "<Figure size 432x288 with 1 Axes>"
      ]
     },
     "metadata": {
      "needs_background": "light"
     },
     "output_type": "display_data"
    }
   ],
   "source": [
    "import numpy as np\n",
    "import matplotlib.pyplot as plt\n",
    "x2 = np.random.uniform(0,1,100)\n",
    "x3 = np.random.uniform(0,1,100)\n",
    "max_x2 = np.max(x2)\n",
    "max_x3 = np.max(x3)\n",
    "# Von-Neumann method\n",
    "def f(x):\n",
    "    return np.sin((x**2)/100.)+1./np.cos((x**3)/100.)+1./(x**3)\n",
    "x = f(5.0)\n",
    "y = f(5.0)\n",
    "d = f(5.0)\n",
    "i = 0\n",
    "n = 100\n",
    "ran = []\n",
    "while i < n :\n",
    "    x = ((5.0-1.0)*x2) / (max_x2)+1.0\n",
    "    y=x3/(max_x3)*d\n",
    "    for t in y <= f(x):\n",
    "        if t:  \n",
    "            c = np.append(ran,x)  \n",
    "    i=i+1\n",
    "# PDF of generated data\n",
    "max_x2 = np.max(c)\n",
    "min_x2 = np.min(c)\n",
    "N = 100\n",
    "dx2 = (max_x2-min_x2) / N\n",
    "len_x2 = len(c)\n",
    "b = np.arange(min_x2, max_x2, dx2)\n",
    "len_b = len(b)\n",
    "nb = np.zeros(len_b, float)\n",
    "len_x2 = len(c)\n",
    "for i in range(1, len_b-1):\n",
    "    for j in range(1, len_x2):\n",
    "        if c[j] >= b[i] and c[j] < b[i+1]:\n",
    "            nb[i] = nb[i] + 1.\n",
    "pb=nb / (len_x2*dx2)\n",
    "# plots\n",
    "plt.plot(b, pb, 'b.', label='PDF of random data')\n",
    "plt.plot(c, f(x), 'r.', label='Von-Neumann method')\n",
    "plt.xlabel('x')\n",
    "plt.ylabel('p(x)')\n",
    "plt.grid()\n",
    "plt.legend()\n",
    "plt.savefig('question_2.jpeg')\n",
    "plt.show()\n",
    "with open('result.txt', 'w') as f:\n",
    "    print >>f, c"
   ]
  }
 ],
 "metadata": {
  "kernelspec": {
   "display_name": "Python 2",
   "language": "python",
   "name": "python2"
  },
  "language_info": {
   "codemirror_mode": {
    "name": "ipython",
    "version": 2
   },
   "file_extension": ".py",
   "mimetype": "text/x-python",
   "name": "python",
   "nbconvert_exporter": "python",
   "pygments_lexer": "ipython2",
   "version": "2.7.16"
  }
 },
 "nbformat": 4,
 "nbformat_minor": 2
}
